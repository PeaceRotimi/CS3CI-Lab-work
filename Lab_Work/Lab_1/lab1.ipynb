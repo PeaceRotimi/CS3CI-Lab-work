{
 "cells": [
  {
   "cell_type": "markdown",
   "id": "2846ae3a",
   "metadata": {},
   "source": [
    "# Travelling Salesman Problem \n",
    "\n",
    "<em> Given a list of cities and the distances between each pair of cities, what is the shortest possible route that visits each city exactly once and returns to the origin city?<em>"
   ]
  }
 ],
 "metadata": {
  "language_info": {
   "name": "python"
  }
 },
 "nbformat": 4,
 "nbformat_minor": 5
}
